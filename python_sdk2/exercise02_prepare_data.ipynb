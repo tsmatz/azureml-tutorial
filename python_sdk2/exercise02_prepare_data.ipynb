{
 "cells": [
  {
   "cell_type": "markdown",
   "metadata": {},
   "source": [
    "# Exercise 02 : Prepare Data\n",
    "\n",
    "Here we uploda data as data asset in Azure Machine Learning.<br>\n",
    "The subsequent all exercises (Exercise 04 -) will use data provisioned in this exercise, and you should then run this exercise beforehand.\n",
    "\n",
    "Here we use hand-writing digit's dataset ([MNIST](http://yann.lecun.com/exdb/mnist/)) - **train.tfrecords**, **test.tfrecords** - to train in this tutorial.\n",
    "\n",
    "*back to [index](https://github.com/tsmatz/azureml-tutorial/)*"
   ]
  },
  {
   "cell_type": "markdown",
   "metadata": {},
   "source": [
    "## Initialize MLClient\n",
    "\n",
    "Before running code, you need to connect to your Azure ML workspace.<br>\n",
    "Replace below's branket's string with your subscription id, resource group name, and AML workspace name.\n",
    "\n",
    "I note that creating ```MLClient``` will not connect to AML workspace, and the client initialization is lazy."
   ]
  },
  {
   "cell_type": "code",
   "execution_count": 1,
   "metadata": {},
   "outputs": [
    {
     "name": "stderr",
     "output_type": "stream",
     "text": [
      "/usr/lib/python3/dist-packages/OpenSSL/crypto.py:12: CryptographyDeprecationWarning: Python 3.6 is no longer supported by the Python core team. Therefore, support for it is deprecated in cryptography and will be removed in a future release.\n",
      "  from cryptography import x509\n"
     ]
    }
   ],
   "source": [
    "from azure.ai.ml import MLClient\n",
    "from azure.identity import DeviceCodeCredential\n",
    "\n",
    "# When you run on remote\n",
    "cred = DeviceCodeCredential()\n",
    "\n",
    "# # When you run on Azure ML Notebook\n",
    "# from azure.identity import DefaultAzureCredential\n",
    "# cred = DefaultAzureCredential()\n",
    "\n",
    "# Get a handle to the workspace\n",
    "ml_client = MLClient(\n",
    "    credential=cred,\n",
    "    subscription_id=\"{SUBSCRIPTION ID}\",\n",
    "    resource_group_name=\"{RESOURCE GROUP NAME}\",\n",
    "    workspace_name=\"{AML WORKSPACE NAME}\",\n",
    ")"
   ]
  },
  {
   "cell_type": "markdown",
   "metadata": {},
   "source": [
    "## Download data in local folder\n",
    "\n",
    "Download MNIST (hand-writing digits) dataset in ```./data``` folder.<br>\n",
    "The generated ```train.tfrecords``` has 60,000 records and ```test.tfrecords``` has 10,000 records."
   ]
  },
  {
   "cell_type": "code",
   "execution_count": null,
   "metadata": {},
   "outputs": [],
   "source": [
    "import os\n",
    "import tensorflow as tf\n",
    "from tensorflow.contrib.learn.python.learn.datasets import mnist\n",
    "\n",
    "def convert_to(data_set, name):\n",
    "    images = data_set.images\n",
    "    labels = data_set.labels\n",
    "    num_examples = data_set.num_examples\n",
    "\n",
    "    rows = images.shape[1]\n",
    "    cols = images.shape[2]\n",
    "    depth = images.shape[3]\n",
    "\n",
    "    filename = os.path.join(\"data\", name + '.tfrecords')\n",
    "    print('Writing', filename)\n",
    "    with tf.python_io.TFRecordWriter(filename) as writer:\n",
    "        for index in range(num_examples):\n",
    "            image_raw = images[index].tobytes()\n",
    "            example = tf.train.Example(\n",
    "                features=tf.train.Features(\n",
    "                    feature={\n",
    "                        'height': tf.train.Feature(int64_list=tf.train.Int64List(value=[rows])),\n",
    "                        'width': tf.train.Feature(int64_list=tf.train.Int64List(value=[cols])),\n",
    "                        'depth': tf.train.Feature(int64_list=tf.train.Int64List(value=[depth])),\n",
    "                        'label': tf.train.Feature(int64_list=tf.train.Int64List(value=[int(labels[index])])),\n",
    "                        'image_raw': tf.train.Feature(bytes_list=tf.train.BytesList(value=[image_raw]))\n",
    "                    }))\n",
    "            writer.write(example.SerializeToString())\n",
    "\n",
    "data_sets = mnist.read_data_sets(\n",
    "    \"tmp-data\",\n",
    "    dtype=tf.uint8,\n",
    "    reshape=False,\n",
    "    validation_size=0)\n",
    "os.makedirs(\"./data\", exist_ok=True)\n",
    "convert_to(data_sets.train, 'train')\n",
    "convert_to(data_sets.test, 'test')"
   ]
  },
  {
   "cell_type": "markdown",
   "metadata": {},
   "source": [
    "## Upload local files to AML default datastore\n",
    "\n",
    "Azure Machine Learning (AML) workspace has its own default datastore. When you create an AML workspace, a storage account (default datastore) is automatically generated in the same resource group.<br>\n",
    "Now we upload files in local ```data``` folder to Azure ML workspace."
   ]
  },
  {
   "cell_type": "code",
   "execution_count": 2,
   "metadata": {},
   "outputs": [
    {
     "name": "stdout",
     "output_type": "stream",
     "text": [
      "To sign in, use a web browser to open the page https://microsoft.com/devicelogin and enter the code RPR2B3UFA to authenticate.\n"
     ]
    },
    {
     "name": "stderr",
     "output_type": "stream",
     "text": [
      "\u001b[32mUploading data (57.91 MBs): 100%|██████████| 57915000/57915000 [00:01<00:00, 46535587.87it/s]\n",
      "\u001b[39m\n",
      "\n"
     ]
    }
   ],
   "source": [
    "from azure.ai.ml.entities import Data\n",
    "from azure.ai.ml.constants import AssetTypes\n",
    "\n",
    "mnist_data = Data(\n",
    "    name=\"mnist_tfrecords_data\",\n",
    "    path=\"data\",\n",
    "    type=AssetTypes.URI_FOLDER,\n",
    ")\n",
    "credit_data = ml_client.data.create_or_update(mnist_data)"
   ]
  },
  {
   "cell_type": "markdown",
   "metadata": {},
   "source": [
    "## Show registered data"
   ]
  },
  {
   "cell_type": "markdown",
   "metadata": {},
   "source": [
    "You can extract the registered data with ```get()``` or ```list()``` methods."
   ]
  },
  {
   "cell_type": "code",
   "execution_count": 3,
   "metadata": {},
   "outputs": [
    {
     "data": {
      "text/plain": [
       "Data({'type': 'uri_folder', 'is_anonymous': False, 'auto_increment_version': False, 'name': 'mnist_tfrecords_data', 'description': None, 'tags': {}, 'properties': {}, 'id': '/subscriptions/b3ae1c15-4fef-4362-8c3a-5d804cdeb18d/resourceGroups/AzureML-rg/providers/Microsoft.MachineLearningServices/workspaces/ws01/data/mnist_tfrecords_data/versions/1', 'base_path': './', 'creation_context': <azure.ai.ml._restclient.v2022_05_01.models._models_py3.SystemData object at 0x7f06171ac898>, 'serialize': <msrest.serialization.Serializer object at 0x7f061719cda0>, 'version': '1', 'latest_version': None, 'path': 'azureml://subscriptions/b3ae1c15-4fef-4362-8c3a-5d804cdeb18d/resourcegroups/AzureML-rg/workspaces/ws01/datastores/workspaceblobstore/paths/LocalUpload/cb5afd9ca46093b6ec3c6dce49d2ce0e/data/', 'referenced_uris': None})"
      ]
     },
     "execution_count": 3,
     "metadata": {},
     "output_type": "execute_result"
    }
   ],
   "source": [
    "data = ml_client.data.get(\"mnist_tfrecords_data\", version=1)\n",
    "data"
   ]
  },
  {
   "cell_type": "code",
   "execution_count": null,
   "metadata": {},
   "outputs": [],
   "source": []
  }
 ],
 "metadata": {
  "kernelspec": {
   "display_name": "Python 3",
   "language": "python",
   "name": "python3"
  },
  "language_info": {
   "codemirror_mode": {
    "name": "ipython",
    "version": 3
   },
   "file_extension": ".py",
   "mimetype": "text/x-python",
   "name": "python",
   "nbconvert_exporter": "python",
   "pygments_lexer": "ipython3",
   "version": "3.6.9"
  }
 },
 "nbformat": 4,
 "nbformat_minor": 2
}
