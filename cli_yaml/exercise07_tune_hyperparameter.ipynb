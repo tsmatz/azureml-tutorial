{
 "cells": [
  {
   "cell_type": "markdown",
   "metadata": {},
   "source": [
    "# Exercise07 : Hyperparameter Tuning (Sweep Job)\n",
    "\n",
    "AML provides framework-independent hyperparameter tuning capability.<br>\n",
    "You can quickly search optimal parameters with scaled training workloads. This capability also works with metrics in AML logging.\n",
    "\n",
    "*back to [index](https://github.com/tsmatz/azureml-tutorial/)*"
   ]
  },
  {
   "cell_type": "markdown",
   "metadata": {},
   "source": [
    "## Variable's Setting\n",
    "\n",
    "Replace below's branket's string and set the required variables.\n",
    "\n",
    "> Note : By the following ```az configure --defaults```, you can skip setting for ```--resource-group``` and ```--workspace-name``` options in each ```az ml``` command.<br>\n",
    "> ```az configure --defaults group=$resource_group workspace=$aml_workspace```"
   ]
  },
  {
   "cell_type": "code",
   "execution_count": 1,
   "metadata": {},
   "outputs": [],
   "source": [
    "my_resource_group = \"{AML-RESOURCE-GROUP-NAME}\"\n",
    "my_workspace = \"{AML-WORSPACE-NAME}\""
   ]
  },
  {
   "cell_type": "markdown",
   "metadata": {},
   "source": [
    "## Save your training code\n",
    "\n",
    "First, you must save your training code.    \n",
    "Here I should use the source code in \"[Exercise06 : Track Logs and Metrics](./exercise06_experimentation.ipynb)\", which sends logs into AML run history. (The metrics will be tracked in hyper-parameter tuning (sweep) job.)"
   ]
  },
  {
   "cell_type": "markdown",
   "metadata": {},
   "source": [
    "Create ```scirpt``` directory."
   ]
  },
  {
   "cell_type": "code",
   "execution_count": 2,
   "metadata": {},
   "outputs": [],
   "source": [
    "import os\n",
    "script_folder = './script'\n",
    "os.makedirs(script_folder, exist_ok=True)"
   ]
  },
  {
   "cell_type": "markdown",
   "metadata": {},
   "source": [
    "Save source code as ```./script/train_expriment.py```.<br>\n",
    "This source code is the exact same source code as one in \"[Exercise06 : Track Logs and Metrics](./exercise06_experimentation.ipynb)\""
   ]
  },
  {
   "cell_type": "code",
   "execution_count": 2,
   "metadata": {},
   "outputs": [
    {
     "name": "stdout",
     "output_type": "stream",
     "text": [
      "Overwriting script/train_experiment.py\n"
     ]
    }
   ],
   "source": [
    "%%writefile script/train_experiment.py\n",
    "import os\n",
    "import argparse\n",
    "import tensorflow as tf\n",
    "\n",
    "import mlflow ##### Modified\n",
    "mlflow.tensorflow.autolog() ##### Modified\n",
    "\n",
    "### You can also manually log as follows (Here we use autolog())\n",
    "# mlflow.log_params({\n",
    "#     'learning_rate': FLAGS.learning_rate,\n",
    "#     '1st_layer': FLAGS.first_layer,\n",
    "#     '2nd_layer': FLAGS.second_layer})\n",
    "# mlflow.log_metrics(\n",
    "#     {'training_accuracy': result_accuracy, 'training_loss': result_loss},\n",
    "#     step=result_step)\n",
    "\n",
    "# device test\n",
    "print(\"##### List of available GPU #####\")\n",
    "print(tf.config.list_physical_devices(\"GPU\"))\n",
    "\n",
    "# parse arguments\n",
    "parser = argparse.ArgumentParser()\n",
    "parser.add_argument(\n",
    "    \"--data_folder\",\n",
    "    type=str,\n",
    "    default=\"./data/train\",\n",
    "    help=\"Folder path for input data\")\n",
    "parser.add_argument(\n",
    "    \"--model_folder\",\n",
    "    type=str,\n",
    "    default=\"./outputs\",  # AML experiments outputs folder\n",
    "    help=\"Folder path for model output\")\n",
    "parser.add_argument(\n",
    "    \"--learning_rate\",\n",
    "    type=float,\n",
    "    default=\"0.001\",\n",
    "    help=\"Learning Rate\")\n",
    "parser.add_argument(\n",
    "    \"--first_layer\",\n",
    "    type=int,\n",
    "    default=\"128\",\n",
    "    help=\"Neuron number for the first hidden layer\")\n",
    "parser.add_argument(\n",
    "    \"--second_layer\",\n",
    "    type=int,\n",
    "    default=\"64\",\n",
    "    help=\"Neuron number for the second hidden layer\")\n",
    "parser.add_argument(\n",
    "    \"--epochs_num\",\n",
    "    type=int,\n",
    "    default=\"6\",\n",
    "    help=\"Number of epochs\")\n",
    "FLAGS, unparsed = parser.parse_known_args()\n",
    "\n",
    "# build model\n",
    "model = tf.keras.models.Sequential([\n",
    "    tf.keras.layers.Flatten(input_shape=(28, 28)),\n",
    "    tf.keras.layers.Dense(FLAGS.first_layer, activation=\"relu\"),\n",
    "    tf.keras.layers.Dense(FLAGS.second_layer, activation=\"relu\"),\n",
    "    tf.keras.layers.Dense(10)\n",
    "])\n",
    "model.compile(\n",
    "    optimizer=tf.keras.optimizers.Adam(FLAGS.learning_rate),\n",
    "    loss=tf.keras.losses.SparseCategoricalCrossentropy(from_logits=True),\n",
    "    metrics=[tf.keras.metrics.SparseCategoricalAccuracy()],\n",
    ")\n",
    "\n",
    "# run training\n",
    "train_data = tf.data.experimental.load(FLAGS.data_folder)\n",
    "model.fit(\n",
    "    train_data.shuffle(1000).batch(128).prefetch(tf.data.AUTOTUNE),\n",
    "    epochs=FLAGS.epochs_num\n",
    ")\n",
    "\n",
    "# save model and variables\n",
    "model_path = os.path.join(FLAGS.model_folder, \"mnist_tf_model\")\n",
    "model.save(model_path)\n",
    "print(\"current working directory : \", os.getcwd())\n",
    "print(\"model folder : \", model_path)"
   ]
  },
  {
   "cell_type": "markdown",
   "metadata": {},
   "source": [
    "## Create AML compute\n",
    "\n",
    "Create AML compute pool for computing environment.<br>\n",
    "Here I create a cluster with max 4 instances to scale sweep job.\n",
    "\n",
    "> Note : By setting appropriate time duration in ```--idle-time-before-scale-down``` option, you can prevent scaling-down when the training has finished. (Otherwise, it will scale down in 120 seconds after the training has finished, and the next training will slow to start because of cluster resizing.)"
   ]
  },
  {
   "cell_type": "code",
   "execution_count": 3,
   "metadata": {},
   "outputs": [
    {
     "name": "stdout",
     "output_type": "stream",
     "text": [
      "\u001b[K{\\ Finished ..\n",
      "  \"id\": \"/subscriptions/b3ae1c15-4fef-4362-8c3a-5d804cdeb18d/resourceGroups/rg-AML/providers/Microsoft.MachineLearningServices/workspaces/ws01/computes/hypertest01\",\n",
      "  \"idle_time_before_scale_down\": 120,\n",
      "  \"location\": \"eastus\",\n",
      "  \"max_instances\": 4,\n",
      "  \"min_instances\": 0,\n",
      "  \"name\": \"hypertest01\",\n",
      "  \"network_settings\": {},\n",
      "  \"provisioning_state\": \"Succeeded\",\n",
      "  \"resourceGroup\": \"rg-AML\",\n",
      "  \"size\": \"STANDARD_D2_V2\",\n",
      "  \"ssh_public_access_enabled\": true,\n",
      "  \"tier\": \"dedicated\",\n",
      "  \"type\": \"amlcompute\"\n",
      "}\n",
      "\u001b[0m"
     ]
    }
   ],
   "source": [
    "!az ml compute create --name hypertest01 \\\n",
    "  --resource-group $my_resource_group \\\n",
    "  --workspace-name $my_workspace \\\n",
    "  --type amlcompute \\\n",
    "  --min-instances 0 \\\n",
    "  --max-instances 4 \\\n",
    "  --size Standard_D2_v2"
   ]
  },
  {
   "cell_type": "markdown",
   "metadata": {},
   "source": [
    "## Create AML environment\n",
    "\n",
    "As I have mentioned in \"[Exercise06 : Track Logs and Metrics](./exercise06_experimentation.ipynb)\", we should use an environment with ```mlflow``` and ```azureml-mlflow``` installed.\n",
    "\n",
    "**If you have already created custom environment in [Exercise06](./exercise06_experimentation.ipynb), you don't need to run the following command.** (Because this custom environment already exists.)"
   ]
  },
  {
   "cell_type": "code",
   "execution_count": 4,
   "metadata": {},
   "outputs": [
    {
     "name": "stdout",
     "output_type": "stream",
     "text": [
      "Writing 06_conda_pydata_for_logging.yml\n"
     ]
    }
   ],
   "source": [
    "%%writefile 06_conda_pydata_for_logging.yml\n",
    "name: project_environment\n",
    "dependencies:\n",
    "- python=3.8\n",
    "- pip:\n",
    "  - tensorflow-gpu==2.10.0\n",
    "  - mlflow\n",
    "  - azureml-mlflow\n",
    "channels:\n",
    "- anaconda\n",
    "- conda-forge"
   ]
  },
  {
   "cell_type": "code",
   "execution_count": 5,
   "metadata": {},
   "outputs": [
    {
     "name": "stdout",
     "output_type": "stream",
     "text": [
      "Writing 06_env_register.yml\n"
     ]
    }
   ],
   "source": [
    "%%writefile 06_env_register.yml\n",
    "$schema: https://azuremlschemas.azureedge.net/latest/environment.schema.json\n",
    "name: test-remote-cpu-env-for-logging\n",
    "image: mcr.microsoft.com/azureml/openmpi4.1.0-ubuntu20.04\n",
    "conda_file: 06_conda_pydata_for_logging.yml\n",
    "description: This is example"
   ]
  },
  {
   "cell_type": "code",
   "execution_count": 6,
   "metadata": {},
   "outputs": [
    {
     "name": "stdout",
     "output_type": "stream",
     "text": [
      "{\r\n",
      "  \"conda_file\": {\r\n",
      "    \"channels\": [\r\n",
      "      \"anaconda\",\r\n",
      "      \"conda-forge\"\r\n",
      "    ],\r\n",
      "    \"dependencies\": [\r\n",
      "      \"python=3.8\",\r\n",
      "      {\r\n",
      "        \"pip\": [\r\n",
      "          \"tensorflow-gpu==2.10.0\",\r\n",
      "          \"mlflow\",\r\n",
      "          \"azureml-mlflow\"\r\n",
      "        ]\r\n",
      "      }\r\n",
      "    ],\r\n",
      "    \"name\": \"project_environment\"\r\n",
      "  },\r\n",
      "  \"creation_context\": {\r\n",
      "    \"created_at\": \"2022-10-04T08:05:52.039255+00:00\",\r\n",
      "    \"created_by\": \"Tsuyoshi Matsuzaki\",\r\n",
      "    \"created_by_type\": \"User\",\r\n",
      "    \"last_modified_at\": \"2022-10-04T08:05:52.039255+00:00\",\r\n",
      "    \"last_modified_by\": \"Tsuyoshi Matsuzaki\",\r\n",
      "    \"last_modified_by_type\": \"User\"\r\n",
      "  },\r\n",
      "  \"description\": \"This is example\",\r\n",
      "  \"id\": \"azureml:/subscriptions/b3ae1c15-4fef-4362-8c3a-5d804cdeb18d/resourceGroups/rg-AML/providers/Microsoft.MachineLearningServices/workspaces/ws01/environments/test-remote-cpu-env-for-logging/versions/2\",\r\n",
      "  \"image\": \"mcr.microsoft.com/azureml/openmpi4.1.0-ubuntu20.04\",\r\n",
      "  \"name\": \"test-remote-cpu-env-for-logging\",\r\n",
      "  \"os_type\": \"linux\",\r\n",
      "  \"resourceGroup\": \"rg-AML\",\r\n",
      "  \"tags\": {},\r\n",
      "  \"version\": \"2\"\r\n",
      "}\r\n",
      "\u001b[0m"
     ]
    }
   ],
   "source": [
    "!az ml environment create --file 06_env_register.yml \\\n",
    "  --resource-group $my_resource_group \\\n",
    "  --workspace-name $my_workspace"
   ]
  },
  {
   "cell_type": "markdown",
   "metadata": {},
   "source": [
    "Go to [AML Studio UI](https://ml.azure.com/) and click \"Environments\". Next, click \"Custom environments\" tab and select the above environment.<br>\n",
    "Please wait until the environment image build status is succeeded.\n",
    "\n",
    "![Environment status](https://tsmatz.github.io/images/github/azure-ml-tensorflow-complete-sample/20221220_Environment_Status.jpg)"
   ]
  },
  {
   "cell_type": "markdown",
   "metadata": {},
   "source": [
    "## Submit a job with hyper-parameter's search\n",
    "\n",
    "Now submit a job, in which multiple trainings will run depending on different hyper-parameters.<br>\n",
    "In this example, we monitor training accuracy depending on 3 arguments - ```--learning_rate```, ```--first_layer```, and ```--second_layer```. Each arguments can have 3 different values (and then total 27 trials can be run), but here I set maximum 20 trials to run, in which the values of arguments are randomly picked up.<br>\n",
    "These trials will be parallelized on above 4 node to speed up.\n",
    "\n",
    "By ```objective``` setting, the accuracy in each training is tracked and it's evaluated to maximize. (```sparse_categorical_accuracy``` is the metrics name of MLflow tracking in this training.)\n",
    "\n",
    "For ```sampling_algorithm```, you can use ```grid```, ```random```, and ```bayesian```.<br>\n",
    "You can also specify an early termnination policy (```early_termination```), in which the training will terminate if the primary metric falls outside of some threshold. (Here we don't apply early termination.)\n",
    "\n",
    "> Note : In this example, I also use the registered data asset named ```mnist_data``` to mount in your compute target. Run \"[Exercise02 : Prepare Data](./exercise02_prepare_data.ipynb)\" for data preparation."
   ]
  },
  {
   "cell_type": "code",
   "execution_count": 7,
   "metadata": {},
   "outputs": [
    {
     "name": "stdout",
     "output_type": "stream",
     "text": [
      "Writing 07_hyperparam_job.yml\n"
     ]
    }
   ],
   "source": [
    "%%writefile 07_hyperparam_job.yml\n",
    "$schema: https://azuremlschemas.azureedge.net/latest/sweepJob.schema.json\n",
    "type: sweep\n",
    "trial:\n",
    "  code: script\n",
    "  command: >-\n",
    "    python train_experiment.py\n",
    "    --data_folder ${{inputs.mnist_tf}}/train\n",
    "    --learning_rate ${{search_space.learning_rate}}\n",
    "    --first_layer ${{search_space.first_layer}}\n",
    "    --second_layer ${{search_space.second_layer}}\n",
    "  environment: azureml:test-remote-cpu-env-for-logging@latest\n",
    "inputs:\n",
    "  mnist_tf:\n",
    "    type: uri_folder\n",
    "    path: azureml:mnist_data@latest\n",
    "compute: azureml:hypertest01\n",
    "sampling_algorithm: random\n",
    "search_space:\n",
    "  learning_rate:\n",
    "    type: choice\n",
    "    values: [0.001, 0.005, 0.009]\n",
    "  first_layer:\n",
    "    type: choice\n",
    "    values: [100, 125, 150]\n",
    "  second_layer:\n",
    "    type: choice\n",
    "    values: [30, 60, 90]\n",
    "objective:\n",
    "  goal: maximize\n",
    "  primary_metric: sparse_categorical_accuracy\n",
    "limits:\n",
    "  max_total_trials: 20\n",
    "  max_concurrent_trials: 4\n",
    "display_name: hyperdrive_test\n",
    "experiment_name: hyperdrive_test\n",
    "description: This is example"
   ]
  },
  {
   "cell_type": "code",
   "execution_count": 8,
   "metadata": {},
   "outputs": [
    {
     "name": "stdout",
     "output_type": "stream",
     "text": [
      "\u001b[32mUploading script (0.01 MBs): 100%|██████| 6876/6876 [00:00<00:00, 171864.31it/s]\u001b[0m\n",
      "\u001b[39m\n",
      "\n",
      "{\n",
      "  \"compute\": \"azureml:hypertest01\",\n",
      "  \"creation_context\": {\n",
      "    \"created_at\": \"2022-10-04T08:06:39.420475+00:00\",\n",
      "    \"created_by\": \"Tsuyoshi Matsuzaki\",\n",
      "    \"created_by_type\": \"User\"\n",
      "  },\n",
      "  \"description\": \"This is example\",\n",
      "  \"display_name\": \"hyperdrive_test\",\n",
      "  \"experiment_name\": \"hyperdrive_test\",\n",
      "  \"id\": \"azureml:/subscriptions/b3ae1c15-4fef-4362-8c3a-5d804cdeb18d/resourceGroups/rg-AML/providers/Microsoft.MachineLearningServices/workspaces/ws01/jobs/mighty_book_9pln9lwr1s\",\n",
      "  \"inputs\": {\n",
      "    \"mnist_tf\": {\n",
      "      \"mode\": \"ro_mount\",\n",
      "      \"path\": \"azureml://locations/eastus/workspaces/161509fe-37ed-4417-a7dc-90cfeccf6f44/data/mnist_data/versions/1\",\n",
      "      \"type\": \"uri_folder\"\n",
      "    }\n",
      "  },\n",
      "  \"limits\": {\n",
      "    \"max_concurrent_trials\": 4,\n",
      "    \"max_total_trials\": 20,\n",
      "    \"timeout\": 5184000\n",
      "  },\n",
      "  \"name\": \"mighty_book_9pln9lwr1s\",\n",
      "  \"objective\": {\n",
      "    \"goal\": \"maximize\",\n",
      "    \"primary_metric\": \"sparse_categorical_accuracy\"\n",
      "  },\n",
      "  \"outputs\": {\n",
      "    \"default\": {\n",
      "      \"mode\": \"rw_mount\",\n",
      "      \"path\": \"azureml://datastores/workspaceartifactstore/ExperimentRun/dcid.mighty_book_9pln9lwr1s\",\n",
      "      \"type\": \"uri_folder\"\n",
      "    }\n",
      "  },\n",
      "  \"properties\": {\n",
      "    \"ContentSnapshotId\": \"72d29709-87c6-48a8-9566-4a121ff68208\",\n",
      "    \"azureml.runsource\": \"hyperdrive\",\n",
      "    \"platform\": \"AML\",\n",
      "    \"primary_metric_config\": \"{\\\"name\\\":\\\"sparse_categorical_accuracy\\\",\\\"goal\\\":\\\"maximize\\\"}\",\n",
      "    \"resume_from\": \"null\",\n",
      "    \"runTemplate\": \"HyperDrive\",\n",
      "    \"user_agent\": \"managementfrontend/225e5b0e2332b018dcc960fa491a403660e897e7\"\n",
      "  },\n",
      "  \"resourceGroup\": \"rg-AML\",\n",
      "  \"sampling_algorithm\": {\n",
      "    \"rule\": \"random\",\n",
      "    \"type\": \"random\"\n",
      "  },\n",
      "  \"search_space\": {\n",
      "    \"first_layer\": {\n",
      "      \"type\": \"choice\",\n",
      "      \"values\": [\n",
      "        100,\n",
      "        125,\n",
      "        150\n",
      "      ]\n",
      "    },\n",
      "    \"learning_rate\": {\n",
      "      \"type\": \"choice\",\n",
      "      \"values\": [\n",
      "        0.001,\n",
      "        0.005,\n",
      "        0.009\n",
      "      ]\n",
      "    },\n",
      "    \"second_layer\": {\n",
      "      \"type\": \"choice\",\n",
      "      \"values\": [\n",
      "        30,\n",
      "        60,\n",
      "        90\n",
      "      ]\n",
      "    }\n",
      "  },\n",
      "  \"services\": {\n",
      "    \"Studio\": {\n",
      "      \"endpoint\": \"https://ml.azure.com/runs/mighty_book_9pln9lwr1s?wsid=/subscriptions/b3ae1c15-4fef-4362-8c3a-5d804cdeb18d/resourcegroups/rg-AML/workspaces/ws01&tid=72f988bf-86f1-41af-91ab-2d7cd011db47\",\n",
      "      \"job_service_type\": \"Studio\"\n",
      "    }\n",
      "  },\n",
      "  \"status\": \"Running\",\n",
      "  \"tags\": {\n",
      "    \"_aml_system_all_jobs_generated\": \"false\",\n",
      "    \"_aml_system_cancellation_requested\": \"false\",\n",
      "    \"_aml_system_generator_config\": \"{\\\"name\\\":\\\"RANDOM\\\",\\\"parameter_space\\\":{\\\"learning_rate\\\":[\\\"choice\\\",[[0.001,0.005,0.009]]],\\\"first_layer\\\":[\\\"choice\\\",[[100,125,150]]],\\\"second_layer\\\":[\\\"choice\\\",[[30,60,90]]]},\\\"properties\\\":{\\\"rule\\\":\\\"Random\\\",\\\"seed\\\":null}}\",\n",
      "    \"_aml_system_max_concurrent_jobs\": \"4\",\n",
      "    \"_aml_system_max_duration_minutes\": \"86400\",\n",
      "    \"_aml_system_max_total_jobs\": \"20\",\n",
      "    \"_aml_system_platform_config\": \"{\\\"ServiceAddress\\\":\\\"https://eastus.api.azureml.ms\\\",\\\"SubscriptionId\\\":\\\"b3ae1c15-4fef-4362-8c3a-5d804cdeb18d\\\",\\\"ResourceGroupName\\\":\\\"rg-AML\\\",\\\"WorkspaceName\\\":\\\"ws01\\\",\\\"ExperimentName\\\":\\\"hyperdrive_test\\\",\\\"Definition\\\":{\\\"Configuration\\\":null,\\\"Attribution\\\":null,\\\"TelemetryValues\\\":null,\\\"Overrides\\\":{\\\"Script\\\":null,\\\"Command\\\":\\\"python train_experiment.py --data_folder ${{inputs.mnist_tf}}/train --learning_rate ${{search_space.learning_rate}} --first_layer ${{search_space.first_layer}} --second_layer ${{search_space.second_layer}}\\\",\\\"UseAbsolutePath\\\":true,\\\"Arguments\\\":[],\\\"SourceDirectoryDataStore\\\":null,\\\"Framework\\\":0,\\\"Target\\\":\\\"hypertest01\\\",\\\"DataReferences\\\":{},\\\"Data\\\":{\\\"mnist_tf\\\":{\\\"DataLocation\\\":{\\\"Dataset\\\":null,\\\"DataPath\\\":null,\\\"Uri\\\":{\\\"Path\\\":\\\"/subscriptions/b3ae1c15-4fef-4362-8c3a-5d804cdeb18d/resourceGroups/rg-AML/providers/Microsoft.MachineLearningServices/workspaces/ws01/data/mnist_data/versions/1\\\",\\\"IsFile\\\":false},\\\"Type\\\":\\\"UriFolder\\\"},\\\"Mechanism\\\":\\\"Mount\\\",\\\"EnvironmentVariableName\\\":\\\"AZURE_ML_INPUT_mnist_tf\\\",\\\"PathOnCompute\\\":null,\\\"Overwrite\\\":false,\\\"Options\\\":{\\\"IsEvalMode\\\":\\\"False\\\",\\\"ReadWrite\\\":\\\"False\\\",\\\"ForceFolder\\\":\\\"False\\\"}}},\\\"InputAssets\\\":{\\\"mnist_tf\\\":{\\\"Asset\\\":{\\\"AssetId\\\":\\\"azureml://locations/eastus/workspaces/161509fe-37ed-4417-a7dc-90cfeccf6f44/data/mnist_data/versions/1\\\",\\\"Type\\\":\\\"UriFolder\\\"},\\\"Mechanism\\\":\\\"Mount\\\",\\\"EnvironmentVariableName\\\":\\\"AZURE_ML_INPUT_mnist_tf\\\",\\\"PathOnCompute\\\":null,\\\"Overwrite\\\":false,\\\"Options\\\":{\\\"IsEvalMode\\\":\\\"False\\\",\\\"ReadWrite\\\":\\\"False\\\",\\\"ForceFolder\\\":\\\"False\\\"}}},\\\"OutputData\\\":{},\\\"Datacaches\\\":[],\\\"JobName\\\":null,\\\"MaxRunDurationSeconds\\\":null,\\\"NodeCount\\\":1,\\\"InstanceTypes\\\":[],\\\"Priority\\\":null,\\\"CredentialPassthrough\\\":false,\\\"Identity\\\":null,\\\"Environment\\\":{\\\"Name\\\":\\\"test-remote-cpu-env-for-logging\\\",\\\"Version\\\":\\\"2\\\",\\\"AssetId\\\":\\\"azureml://locations/eastus/workspaces/161509fe-37ed-4417-a7dc-90cfeccf6f44/environments/test-remote-cpu-env-for-logging/versions/2\\\",\\\"AutoRebuild\\\":false,\\\"Python\\\":{\\\"InterpreterPath\\\":null,\\\"UserManagedDependencies\\\":false,\\\"CondaDependencies\\\":{\\\"channels\\\":[\\\"anaconda\\\",\\\"conda-forge\\\"],\\\"dependencies\\\":[\\\"python=3.8\\\",{\\\"pip\\\":[\\\"tensorflow-gpu==2.10.0\\\",\\\"mlflow\\\",\\\"azureml-mlflow\\\"]}],\\\"name\\\":\\\"project_environment\\\"},\\\"BaseCondaEnvironment\\\":null},\\\"EnvironmentVariables\\\":{},\\\"Docker\\\":{\\\"BaseImage\\\":\\\"mcr.microsoft.com/azureml/openmpi4.1.0-ubuntu20.04\\\",\\\"Platform\\\":{\\\"Os\\\":\\\"Linux\\\",\\\"Architecture\\\":\\\"amd64\\\"},\\\"BaseDockerfile\\\":null,\\\"BaseImageRegistry\\\":null},\\\"Spark\\\":{\\\"Repositories\\\":[],\\\"Packages\\\":[],\\\"PrecachePackages\\\":true},\\\"InferencingStackVersion\\\":null},\\\"History\\\":{\\\"OutputCollection\\\":true,\\\"DirectoriesToWatch\\\":[\\\"logs\\\"],\\\"EnableMLflowTracking\\\":true},\\\"Spark\\\":{\\\"Configuration\\\":{}},\\\"ParallelTask\\\":{\\\"MaxRetriesPerWorker\\\":0,\\\"WorkerCountPerNode\\\":1,\\\"TerminalExitCodes\\\":null,\\\"Configuration\\\":{}},\\\"BatchAi\\\":{\\\"NodeCount\\\":0},\\\"AmlCompute\\\":{\\\"Name\\\":null,\\\"VmSize\\\":null,\\\"RetainCluster\\\":false,\\\"ClusterMaxNodeCount\\\":null},\\\"AISuperComputer\\\":{\\\"InstanceType\\\":\\\"D2\\\",\\\"FrameworkImage\\\":null,\\\"ImageVersion\\\":\\\"pytorch-1.7.0\\\",\\\"Location\\\":null,\\\"AISuperComputerStorageData\\\":null,\\\"Interactive\\\":false,\\\"ScalePolicy\\\":null,\\\"VirtualClusterArmId\\\":null,\\\"TensorboardLogDirectory\\\":null,\\\"SSHPublicKey\\\":null,\\\"SSHPublicKeys\\\":null,\\\"EnableAzmlInt\\\":true,\\\"Priority\\\":\\\"Medium\\\",\\\"SLATier\\\":\\\"Standard\\\",\\\"UserAlias\\\":null},\\\"KubernetesCompute\\\":{\\\"InstanceType\\\":null},\\\"Tensorflow\\\":{\\\"WorkerCount\\\":0,\\\"ParameterServerCount\\\":0},\\\"Mpi\\\":{\\\"ProcessCountPerNode\\\":0},\\\"PyTorch\\\":{\\\"CommunicationBackend\\\":null,\\\"ProcessCount\\\":null},\\\"Hdi\\\":{\\\"YarnDeployMode\\\":0},\\\"ContainerInstance\\\":{\\\"Region\\\":null,\\\"CpuCores\\\":2.0,\\\"MemoryGb\\\":3.5},\\\"ExposedPorts\\\":null,\\\"Docker\\\":{\\\"UseDocker\\\":true,\\\"SharedVolumes\\\":null,\\\"ShmSize\\\":null,\\\"Arguments\\\":null},\\\"Cmk8sCompute\\\":{\\\"Configuration\\\":{}},\\\"CommandReturnCodeConfig\\\":{\\\"ReturnCode\\\":0,\\\"SuccessfulReturnCodes\\\":[]},\\\"EnvironmentVariables\\\":{},\\\"ApplicationEndpoints\\\":{},\\\"Parameters\\\":[]},\\\"SnapshotId\\\":\\\"72d29709-87c6-48a8-9566-4a121ff68208\\\",\\\"Snapshots\\\":[],\\\"SourceCodeDataReference\\\":null,\\\"ParentRunId\\\":null,\\\"DataContainerId\\\":null,\\\"RunType\\\":null,\\\"DisplayName\\\":\\\"hyperdrive_test\\\",\\\"EnvironmentAssetId\\\":null,\\\"Properties\\\":{},\\\"Tags\\\":{},\\\"AggregatedArtifactPath\\\":null},\\\"ParentRunId\\\":\\\"mighty_book_9pln9lwr1s\\\"}\",\n",
      "    \"_aml_system_policy_config\": \"{\\\"name\\\":\\\"Default\\\",\\\"properties\\\":{}}\",\n",
      "    \"_aml_system_primary_metric_config\": \"{\\\"name\\\":\\\"sparse_categorical_accuracy\\\",\\\"goal\\\":\\\"maximize\\\"}\",\n",
      "    \"_aml_system_resume_child_runs\": \"null\"\n",
      "  },\n",
      "  \"trial\": {\n",
      "    \"code\": \"azureml:/subscriptions/b3ae1c15-4fef-4362-8c3a-5d804cdeb18d/resourceGroups/rg-AML/providers/Microsoft.MachineLearningServices/workspaces/ws01/codes/8aac5063-3180-4da3-a45b-bd423b5364a1/versions/1\",\n",
      "    \"command\": \"python train_experiment.py --data_folder ${{inputs.mnist_tf}}/train --learning_rate ${{search_space.learning_rate}} --first_layer ${{search_space.first_layer}} --second_layer ${{search_space.second_layer}}\",\n",
      "    \"environment\": \"azureml:test-remote-cpu-env-for-logging:2\",\n",
      "    \"environment_variables\": {},\n",
      "    \"resources\": {\n",
      "      \"instance_count\": 1,\n",
      "      \"properties\": {}\n",
      "    }\n",
      "  },\n",
      "  \"type\": \"sweep\"\n",
      "}\n",
      "\u001b[0m"
     ]
    }
   ],
   "source": [
    "!az ml job create --file 07_hyperparam_job.yml \\\n",
    "  --resource-group $my_resource_group \\\n",
    "  --workspace-name $my_workspace"
   ]
  },
  {
   "cell_type": "markdown",
   "metadata": {},
   "source": [
    "## View logs"
   ]
  },
  {
   "cell_type": "markdown",
   "metadata": {},
   "source": [
    "You can view logs and metrics in jobs on [Azure ML studio UI](https://ml.azure.com/).<br>\n",
    "(Select \"Trials\" tab.)\n",
    "\n",
    "![AML Hyperdrive Metrics](https://tsmatz.github.io/images/github/azure-ml-tensorflow-complete-sample/20220225_Hyperdrive_Metrics.jpg)"
   ]
  },
  {
   "cell_type": "markdown",
   "metadata": {},
   "source": [
    "## Remove AML compute\n",
    "\n",
    "**You don't need to remove your AML compute** for saving money, because the nodes will be automatically terminated, when it's inactive.<br>\n",
    "But if you want to clean up, please run as follows."
   ]
  },
  {
   "cell_type": "code",
   "execution_count": 7,
   "metadata": {},
   "outputs": [
    {
     "name": "stdout",
     "output_type": "stream",
     "text": [
      "Deleting compute hypertest01 \n",
      "...........Done.\n",
      "(0m 56s)\n",
      "\n",
      "\u001b[0m"
     ]
    }
   ],
   "source": [
    "!az ml compute delete --name hypertest01 \\\n",
    "  --resource-group $my_resource_group \\\n",
    "  --workspace-name $my_workspace \\\n",
    "  --yes"
   ]
  },
  {
   "cell_type": "code",
   "execution_count": null,
   "metadata": {},
   "outputs": [],
   "source": []
  }
 ],
 "metadata": {
  "kernelspec": {
   "display_name": "Python 3 (ipykernel)",
   "language": "python",
   "name": "python3"
  },
  "language_info": {
   "codemirror_mode": {
    "name": "ipython",
    "version": 3
   },
   "file_extension": ".py",
   "mimetype": "text/x-python",
   "name": "python",
   "nbconvert_exporter": "python",
   "pygments_lexer": "ipython3",
   "version": "3.8.10"
  }
 },
 "nbformat": 4,
 "nbformat_minor": 2
}
