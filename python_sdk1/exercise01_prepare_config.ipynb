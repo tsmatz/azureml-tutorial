{
 "cells": [
  {
   "cell_type": "markdown",
   "metadata": {},
   "source": [
    "# Exercise01 : Prepare Config Settings\n",
    "\n",
    "Set your config in your current project folder.    \n",
    "(Before starting, you must create your Azure Machine Learning workspace in Azure Portal. See [readme](https://github.com/tsmatz/azureml-tutorial/) for set up.)\n",
    "\n",
    "*back to [index](https://github.com/tsmatz/azureml-tutorial/)*"
   ]
  },
  {
   "cell_type": "markdown",
   "metadata": {},
   "source": [
    "## Initialize config settings (Connect to AML workspace)\n",
    "\n",
    "You must create config setting into your project directory.\n",
    "\n",
    "Copy your Azure Machine Learning workspace name, subscription ID, and resource group name in Azure Machine Learning overview page on Azure Portal, and fill the following parameters.    \n",
    "If you're asked to login Azure with device login UI (https://microsoft.com/devicelogin), please open your browser and proceed to login.\n",
    "\n",
    "This is needed **only once** in your working directory. (The result was written in ```.azureml/config.json``` and used same configuration in this directory.)"
   ]
  },
  {
   "cell_type": "code",
   "execution_count": 1,
   "metadata": {},
   "outputs": [
    {
     "name": "stdout",
     "output_type": "stream",
     "text": [
      "Performing interactive authentication. Please follow the instructions on the terminal.\n",
      "To sign in, use a web browser to open the page https://microsoft.com/devicelogin and enter the code ASC8W7F83 to authenticate.\n",
      "Interactive authentication successfully completed.\n"
     ]
    }
   ],
   "source": [
    "from azureml.core import Workspace\n",
    "ws = Workspace(\n",
    "  workspace_name = \"{AML WORKSPACE NAME}\",\n",
    "  subscription_id = \"{SUBSCRIPTION ID}\",\n",
    "  resource_group = \"{RESOURCE GROUP NAME}\")\n",
    "ws.write_config()"
   ]
  },
  {
   "cell_type": "markdown",
   "metadata": {},
   "source": [
    "Check whether you have connected to AML workspace. (You can see the connected config settings.)"
   ]
  },
  {
   "cell_type": "code",
   "execution_count": null,
   "metadata": {},
   "outputs": [],
   "source": [
    "ws = Workspace.from_config()\n",
    "ws.get_details()"
   ]
  },
  {
   "cell_type": "markdown",
   "metadata": {},
   "source": [
    "## Switch from current connection to another (Optional)\n",
    "\n",
    "When you want to switch to AML workspace in another tenant, run the following command."
   ]
  },
  {
   "cell_type": "code",
   "execution_count": null,
   "metadata": {},
   "outputs": [],
   "source": [
    "from azureml.core import Workspace\n",
    "from azureml.core.authentication import InteractiveLoginAuthentication\n",
    "interactive_auth = InteractiveLoginAuthentication(\n",
    "    tenant_id=\"{TENANT-ID}\")\n",
    "ws = Workspace(\n",
    "    workspace_name = \"{AML WORKSPACE NAME}\",\n",
    "    subscription_id = \"{SUBSCRIPTION ID}\",\n",
    "    resource_group = \"{RESOURCE GROUP NAME}\",\n",
    "    auth=interactive_auth)"
   ]
  },
  {
   "cell_type": "markdown",
   "metadata": {},
   "source": [
    "## Connect to AML workspace with silent login (Optional)\n",
    "\n",
    "For integrating with the automated operations (MLOps), you can use a service principal to connect ML workspace without login UI."
   ]
  },
  {
   "cell_type": "markdown",
   "metadata": {},
   "source": [
    "For preparation, please add a service principal with contributor rights to AML resource group, and get a secret for this service principal.<br>\n",
    "(**You need to install Azure CLI to run this command.** You can also do this task in [Azure Portal UI](Https://portal.azure.com/).)"
   ]
  },
  {
   "cell_type": "code",
   "execution_count": null,
   "metadata": {},
   "outputs": [],
   "source": [
    "!az login"
   ]
  },
  {
   "cell_type": "code",
   "execution_count": null,
   "metadata": {},
   "outputs": [],
   "source": [
    "# Replace {SERVICE PRINCIPAL NAME}, {SUBSCRIPTION ID} and {RESOURCE GROUP NAME}.\n",
    "# {SERVICE PRINCIPAL NAME} is an arbitrary string.\n",
    "!az ad sp create-for-rbac --name {SERVICE PRINCIPAL NAME} \\\n",
    "    --role contributor \\\n",
    "    --scopes /subscriptions/{SUBSCRIPTION ID}/resourceGroups/{RESOURCE GROUP NAME}"
   ]
  },
  {
   "cell_type": "markdown",
   "metadata": {},
   "source": [
    "This will generate the following JSON output.<br>\n",
    "Copy {CLIENT ID}, {CLIENT SECRET}, and {TENANT ID}.\n",
    "\n",
    "```\n",
    "{\n",
    "  \"appId\": \"{CLIENT ID}\",\n",
    "  \"displayName\": \"{SERVICE PRINCIPAL NAME}\",\n",
    "  \"name\": \"{GUID}\",\n",
    "  \"password\": \"{CLIENT SECRET}\",\n",
    "  \"tenant\": \"{TENANT ID}\"\n",
    "}\n",
    "```"
   ]
  },
  {
   "cell_type": "markdown",
   "metadata": {},
   "source": [
    "By running the following command, now you can get AML workspace connection using a service principal credentials.<br>\n",
    "Please specify \"AzureCloud\", \"AzureUSGovernment\", or \"AzureChinaCloud\" in ```cloud``` property."
   ]
  },
  {
   "cell_type": "code",
   "execution_count": null,
   "metadata": {},
   "outputs": [],
   "source": [
    "from azureml.core.authentication import ServicePrincipalAuthentication\n",
    "\n",
    "sp_auth = ServicePrincipalAuthentication(\n",
    "    tenant_id = \"{TENANT ID}\",\n",
    "    service_principal_id = \"{CLIENT ID}\",\n",
    "    service_principal_password = \"{CLIENT SECRET}\",\n",
    "    cloud = \"AzureCloud\"\n",
    ")\n",
    "ws = Workspace.get(\n",
    "    name = \"{AML WORKSPACE NAME}\",\n",
    "    subscription_id = \"{SUBSCRIPTION ID}\",\n",
    "    resource_group = \"{RESOURCE GROUP NAME}\",\n",
    "    auth = sp_auth\n",
    ")"
   ]
  }
 ],
 "metadata": {
  "kernelspec": {
   "display_name": "Python 3 (ipykernel)",
   "language": "python",
   "name": "python3"
  },
  "language_info": {
   "codemirror_mode": {
    "name": "ipython",
    "version": 3
   },
   "file_extension": ".py",
   "mimetype": "text/x-python",
   "name": "python",
   "nbconvert_exporter": "python",
   "pygments_lexer": "ipython3",
   "version": "3.8.10"
  }
 },
 "nbformat": 4,
 "nbformat_minor": 2
}
