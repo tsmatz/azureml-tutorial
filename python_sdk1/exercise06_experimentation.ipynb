{
 "cells": [
  {
   "cell_type": "markdown",
   "metadata": {},
   "source": [
    "# Exercise06 : Experimentation Logs and Outputs\n",
    "\n",
    "Here we add logging capabilities in our source code, and check the collected logs and metrics.\n",
    "\n",
    "*back to [index](https://github.com/tsmatz/azureml-tutorial/)*"
   ]
  },
  {
   "cell_type": "markdown",
   "metadata": {},
   "source": [
    "## Get workspace setting"
   ]
  },
  {
   "cell_type": "code",
   "execution_count": 1,
   "metadata": {},
   "outputs": [],
   "source": [
    "from azureml.core import Workspace\n",
    "import azureml.core\n",
    "\n",
    "ws = Workspace.from_config()"
   ]
  },
  {
   "cell_type": "markdown",
   "metadata": {},
   "source": [
    "## Create experiment"
   ]
  },
  {
   "cell_type": "code",
   "execution_count": 2,
   "metadata": {},
   "outputs": [],
   "source": [
    "from azureml.core import Experiment\n",
    "\n",
    "experiment = Experiment(workspace=ws, name='test_experiment')"
   ]
  },
  {
   "cell_type": "markdown",
   "metadata": {},
   "source": [
    "## Start experiment run"
   ]
  },
  {
   "cell_type": "code",
   "execution_count": 3,
   "metadata": {},
   "outputs": [],
   "source": [
    "run = experiment.start_logging()"
   ]
  },
  {
   "cell_type": "markdown",
   "metadata": {},
   "source": [
    "## Change your source code and Train\n",
    "\n",
    "Change your source code in \"[Exercise03 : Just Train in Your Working Machine](./exercise03_train_simple.ipynb)\" for logging in AML as follows. (The lines commented \"##### Modified\" are modified lines.)<br>\n",
    "After running, let's go to [AML Studio](https://ml.azure.com/) and see how logs look like in AML jobs."
   ]
  },
  {
   "cell_type": "code",
   "execution_count": 5,
   "metadata": {},
   "outputs": [
    {
     "name": "stdout",
     "output_type": "stream",
     "text": [
      "Epoch 1/6\n",
      "469/469 [==============================] - 2s 4ms/step - loss: 2.7900 - sparse_categorical_accuracy: 0.8467\n",
      "Epoch 2/6\n",
      "469/469 [==============================] - 2s 4ms/step - loss: 0.5005 - sparse_categorical_accuracy: 0.9239\n",
      "Epoch 3/6\n",
      "469/469 [==============================] - 2s 4ms/step - loss: 0.2859 - sparse_categorical_accuracy: 0.9422\n",
      "Epoch 4/6\n",
      "469/469 [==============================] - 2s 5ms/step - loss: 0.1986 - sparse_categorical_accuracy: 0.9547\n",
      "Epoch 5/6\n",
      "469/469 [==============================] - 2s 4ms/step - loss: 0.1604 - sparse_categorical_accuracy: 0.9607\n",
      "Epoch 6/6\n",
      "469/469 [==============================] - 2s 4ms/step - loss: 0.1449 - sparse_categorical_accuracy: 0.9639\n",
      "INFO:tensorflow:Assets written to: ./outputs/mnist_tf_model/assets\n",
      "current working directory :  /home/tsmatsuz/python_sdk1\n",
      "model folder :  ./outputs/mnist_tf_model\n"
     ]
    }
   ],
   "source": [
    "import os\n",
    "import argparse\n",
    "import tensorflow as tf\n",
    "\n",
    "from azureml.core.run import Run ##### Modified\n",
    "\n",
    "# Get run when running in remote ##### Modified\n",
    "if 'run' not in locals(): ##### Modified\n",
    "    run = Run.get_context() ##### Modified\n",
    "\n",
    "# parse arguments\n",
    "parser = argparse.ArgumentParser()\n",
    "parser.add_argument(\n",
    "    \"--data_folder\",\n",
    "    type=str,\n",
    "    default=\"./data\",\n",
    "    help=\"Folder path for input data\")\n",
    "parser.add_argument(\n",
    "    \"--model_folder\",\n",
    "    type=str,\n",
    "    default=\"./outputs\",  # AML experiments outputs folder\n",
    "    help=\"Folder path for model output\")\n",
    "parser.add_argument(\n",
    "    \"--learning_rate\",\n",
    "    type=float,\n",
    "    default=\"0.001\",\n",
    "    help=\"Learning Rate\")\n",
    "parser.add_argument(\n",
    "    \"--first_layer\",\n",
    "    type=int,\n",
    "    default=\"128\",\n",
    "    help=\"Neuron number for the first hidden layer\")\n",
    "parser.add_argument(\n",
    "    \"--second_layer\",\n",
    "    type=int,\n",
    "    default=\"64\",\n",
    "    help=\"Neuron number for the second hidden layer\")\n",
    "parser.add_argument(\n",
    "    \"--epochs_num\",\n",
    "    type=int,\n",
    "    default=\"6\",\n",
    "    help=\"Number of epochs\")\n",
    "FLAGS, unparsed = parser.parse_known_args()\n",
    "\n",
    "# build model\n",
    "model = tf.keras.models.Sequential([\n",
    "    tf.keras.layers.Flatten(input_shape=(28, 28)),\n",
    "    tf.keras.layers.Dense(FLAGS.first_layer, activation=\"relu\"),\n",
    "    tf.keras.layers.Dense(FLAGS.second_layer, activation=\"relu\"),\n",
    "    tf.keras.layers.Dense(10)\n",
    "])\n",
    "model.compile(\n",
    "    optimizer=tf.keras.optimizers.Adam(FLAGS.learning_rate),\n",
    "    loss=tf.keras.losses.SparseCategoricalCrossentropy(from_logits=True),\n",
    "    metrics=[tf.keras.metrics.SparseCategoricalAccuracy()],\n",
    ")\n",
    "\n",
    "# Create custom callback ##### Modified\n",
    "class CustomOutputCallback(tf.keras.callbacks.Callback):\n",
    "    def on_epoch_end(self, epoch, logs=None):\n",
    "        # Note : Use log_list() instead of calling a lot of times.\n",
    "        run.log('training_accuracy', logs[\"sparse_categorical_accuracy\"])\n",
    "        run.log('training_loss', logs[\"loss\"])\n",
    "    def on_train_end(self, logs=None):\n",
    "        run.log('final_accuracy', logs[\"sparse_categorical_accuracy\"])\n",
    "        run.log('final_loss', logs[\"loss\"])\n",
    "\n",
    "# run training\n",
    "train_data_path = os.path.join(FLAGS.data_folder, \"train\")\n",
    "train_data = tf.data.experimental.load(train_data_path)\n",
    "model.fit(\n",
    "    train_data.shuffle(1000).batch(128).prefetch(tf.data.AUTOTUNE),\n",
    "    epochs=FLAGS.epochs_num,\n",
    "    callbacks=[CustomOutputCallback()]  ##### Modified\n",
    ")\n",
    "\n",
    "# save model and variables\n",
    "model_path = os.path.join(FLAGS.model_folder, \"mnist_tf_model\")\n",
    "model.save(model_path)\n",
    "print(\"current working directory : \", os.getcwd())\n",
    "print(\"model folder : \", model_path)\n",
    "\n",
    "# send logs to AML ##### Modified   \n",
    "run.log('learning_rate', FLAGS.learning_rate) ##### Modified\n",
    "run.log('1st_layer', FLAGS.first_layer) ##### Modified\n",
    "run.log('2nd_layer', FLAGS.second_layer) ##### Modified"
   ]
  },
  {
   "cell_type": "markdown",
   "metadata": {},
   "source": [
    "## Stop Run"
   ]
  },
  {
   "cell_type": "code",
   "execution_count": 6,
   "metadata": {},
   "outputs": [],
   "source": [
    "run.complete()"
   ]
  },
  {
   "cell_type": "markdown",
   "metadata": {},
   "source": [
    "## Show logs using AML run history widget\n",
    "\n",
    "You can view detailed logs on \"Experiments\" in Azure Machine Learning studio UI (https://ml.azure.com/).\n",
    "\n",
    "You can also view your logs in your working notebook as follows. (For viewing in notebook, you must install widgets extensions. See [readme](https://github.com/tsmatz/azureml-tutorial/) for extension installation.)"
   ]
  },
  {
   "cell_type": "code",
   "execution_count": 7,
   "metadata": {},
   "outputs": [
    {
     "data": {
      "application/vnd.jupyter.widget-view+json": {
       "model_id": "9bd1c5ab4efb491a9824bcadb5433ab0",
       "version_major": 2,
       "version_minor": 0
      },
      "text/plain": [
       "_UserRunWidget(widget_settings={'childWidgetDisplay': 'popup', 'send_telemetry': False, 'log_level': 'INFO', '…"
      ]
     },
     "metadata": {},
     "output_type": "display_data"
    },
    {
     "data": {
      "application/aml.mini.widget.v1": "{\"status\": \"Completed\", \"workbench_run_details_uri\": \"https://ml.azure.com/runs/63188ec8-8911-4016-b596-c7adc961097c?wsid=/subscriptions/b3ae1c15-4fef-4362-8c3a-5d804cdeb18d/resourcegroups/rg-AML/workspaces/ws01&tid=72f988bf-86f1-41af-91ab-2d7cd011db47\", \"run_id\": \"63188ec8-8911-4016-b596-c7adc961097c\", \"run_properties\": {\"run_id\": \"63188ec8-8911-4016-b596-c7adc961097c\", \"created_utc\": \"2022-10-05T06:36:09.207782Z\", \"properties\": {\"ContentSnapshotId\": \"d110362f-956c-4b14-9179-49d02b815f59\"}, \"tags\": {}, \"end_time_utc\": \"2022-10-05T06:39:05.315557Z\", \"status\": \"Completed\", \"log_files\": {}, \"log_groups\": [], \"run_duration\": \"0:02:56\", \"run_number\": \"1664951769\", \"run_queued_details\": {\"status\": \"Completed\", \"details\": null}}, \"child_runs\": [], \"children_metrics\": {}, \"run_metrics\": [{\"name\": \"training_accuracy\", \"run_id\": \"63188ec8-8911-4016-b596-c7adc961097c\", \"categories\": [0, 1, 2, 3, 4, 5], \"series\": [{\"data\": [0.8467000126838684, 0.9238666892051697, 0.9421833157539368, 0.9546833038330078, 0.9606833457946777, 0.9639000296592712]}]}, {\"name\": \"training_loss\", \"run_id\": \"63188ec8-8911-4016-b596-c7adc961097c\", \"categories\": [0, 1, 2, 3, 4, 5], \"series\": [{\"data\": [2.789978504180908, 0.5004594326019287, 0.28586018085479736, 0.19863727688789368, 0.16036465764045715, 0.1449347287416458]}]}, {\"name\": \"final_accuracy\", \"run_id\": \"63188ec8-8911-4016-b596-c7adc961097c\", \"categories\": [0], \"series\": [{\"data\": [0.9639000296592712]}]}, {\"name\": \"final_loss\", \"run_id\": \"63188ec8-8911-4016-b596-c7adc961097c\", \"categories\": [0], \"series\": [{\"data\": [0.1449347287416458]}]}, {\"name\": \"learning_rate\", \"run_id\": \"63188ec8-8911-4016-b596-c7adc961097c\", \"categories\": [0], \"series\": [{\"data\": [0.001]}]}, {\"name\": \"1st_layer\", \"run_id\": \"63188ec8-8911-4016-b596-c7adc961097c\", \"categories\": [0], \"series\": [{\"data\": [128]}]}, {\"name\": \"2nd_layer\", \"run_id\": \"63188ec8-8911-4016-b596-c7adc961097c\", \"categories\": [0], \"series\": [{\"data\": [64]}]}], \"run_logs\": \"\\nRun is completed.\", \"graph\": {}, \"widget_settings\": {\"childWidgetDisplay\": \"popup\", \"send_telemetry\": false, \"log_level\": \"INFO\", \"sdk_version\": \"1.46.0\"}, \"loading\": false}"
     },
     "metadata": {},
     "output_type": "display_data"
    }
   ],
   "source": [
    "from azureml.widgets import RunDetails\n",
    "RunDetails(run_instance=run).show()"
   ]
  },
  {
   "cell_type": "markdown",
   "metadata": {},
   "source": [
    "## Plot by code\n",
    "\n",
    "You can also explorer using python code and plot as you like."
   ]
  },
  {
   "cell_type": "code",
   "execution_count": 8,
   "metadata": {},
   "outputs": [
    {
     "data": {
      "text/plain": [
       "[<matplotlib.lines.Line2D at 0x7f16677f2be0>]"
      ]
     },
     "execution_count": 8,
     "metadata": {},
     "output_type": "execute_result"
    },
    {
     "data": {
      "image/png": "[encoded data removed]",
      "text/plain": [
       "<Figure size 640x480 with 1 Axes>"
      ]
     },
     "metadata": {},
     "output_type": "display_data"
    }
   ],
   "source": [
    "import matplotlib.pyplot as plt\n",
    "metrics = run.get_metrics()\n",
    "plt.plot(metrics['training_accuracy'])"
   ]
  },
  {
   "cell_type": "code",
   "execution_count": null,
   "metadata": {},
   "outputs": [],
   "source": []
  }
 ],
 "metadata": {
  "kernelspec": {
   "display_name": "Python 3 (ipykernel)",
   "language": "python",
   "name": "python3"
  },
  "language_info": {
   "codemirror_mode": {
    "name": "ipython",
    "version": 3
   },
   "file_extension": ".py",
   "mimetype": "text/x-python",
   "name": "python",
   "nbconvert_exporter": "python",
   "pygments_lexer": "ipython3",
   "version": "3.8.10"
  }
 },
 "nbformat": 4,
 "nbformat_minor": 2
}
